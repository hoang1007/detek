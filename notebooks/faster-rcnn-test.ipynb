{
 "cells": [
  {
   "cell_type": "code",
   "execution_count": null,
   "metadata": {},
   "outputs": [],
   "source": [
    "from hydra import compose, initialize\n",
    "\n",
    "try:\n",
    "    initialize(config_path=\"../configs\", job_name=\"test\")\n",
    "except Exception as e:\n",
    "    pass"
   ]
  },
  {
   "cell_type": "code",
   "execution_count": null,
   "metadata": {},
   "outputs": [],
   "source": [
    "model_config = compose(config_name=\"model/faster_rcnn.yaml\")"
   ]
  },
  {
   "cell_type": "code",
   "execution_count": null,
   "metadata": {},
   "outputs": [],
   "source": [
    "import pyrootutils\n",
    "\n",
    "pyrootutils.setup_root(\".\", indicator=\".project-root\", pythonpath=True)\n",
    "from src.models.detection_module import DetectionModule\n",
    "\n",
    "model = DetectionModule.load_from_checkpoint(\"../checkpoints/last.ckpt\")"
   ]
  },
  {
   "cell_type": "code",
   "execution_count": null,
   "metadata": {},
   "outputs": [],
   "source": [
    "from hydra.utils import instantiate\n",
    "\n",
    "data_config = compose(\n",
    "    config_name=\"data/pascal_voc.yaml\", overrides=[\"+data.val_data.root=../data\"]\n",
    ")\n",
    "data = instantiate(data_config.data.val_data)"
   ]
  },
  {
   "cell_type": "code",
   "execution_count": null,
   "metadata": {},
   "outputs": [],
   "source": [
    "model.detector.roi_head.test_nms_cfg[\"nms_thr\"] = 0.3"
   ]
  },
  {
   "cell_type": "code",
   "execution_count": null,
   "metadata": {},
   "outputs": [],
   "source": [
    "import torch\n",
    "\n",
    "x = torch.tensor([0, 1, 2, 2])\n",
    "expanded = torch.zeros((4, 4))\n",
    "expanded[range(4), x] = 1\n",
    "expanded"
   ]
  },
  {
   "cell_type": "code",
   "execution_count": null,
   "metadata": {},
   "outputs": [],
   "source": [
    "import torch\n",
    "\n",
    "from src.structures import BatchDataSample\n",
    "\n",
    "model.eval()\n",
    "data_samples = BatchDataSample([data[8]])\n",
    "with torch.no_grad():\n",
    "    det_results = model.predict_step(data_samples)\n",
    "\n",
    "det_results[0].visualize(backend=\"matplot\")"
   ]
  }
 ],
 "metadata": {
  "kernelspec": {
   "display_name": "hoang",
   "language": "python",
   "name": "python3"
  },
  "language_info": {
   "codemirror_mode": {
    "name": "ipython",
    "version": 3
   },
   "file_extension": ".py",
   "mimetype": "text/x-python",
   "name": "python",
   "nbconvert_exporter": "python",
   "pygments_lexer": "ipython3",
   "version": "3.10.9"
  }
 },
 "nbformat": 4,
 "nbformat_minor": 2
}
